{
 "cells": [
  {
   "cell_type": "code",
   "execution_count": null,
   "id": "60d726ef",
   "metadata": {},
   "outputs": [
    {
     "name": "stdout",
     "output_type": "stream",
     "text": [
      "Trimmed file saved as: nba_elo_trimmed.csv\n"
     ]
    }
   ],
   "source": [
    "import pandas as pd\n",
    "\n",
    "def trim_nba_elo(\n",
    "    input_path=\"nba_elo.csv\",\n",
    "    output_path=\"nba_elo_trimmed.csv\",\n",
    "    season_min=2010,\n",
    "    season_max=2023\n",
    "):\n",
    "    # Columns to keep\n",
    "    usecols = [\"season\", \"date\", \"team1\", \"elo1_pre\", \"team2\", \"elo2_pre\", \"playoff\"]\n",
    "    chunks = []\n",
    "\n",
    "    # Process in chunks to manage memory\n",
    "    for chunk in pd.read_csv(input_path, usecols=usecols, chunksize=200_000, low_memory=True):\n",
    "        # Filter to desired seasons\n",
    "        chunk = chunk[\n",
    "            (chunk[\"season\"] >= season_min) &\n",
    "            (chunk[\"season\"] <= season_max)\n",
    "        ]\n",
    "        chunks.append(chunk)\n",
    "\n",
    "    # Concatenate and write out\n",
    "    df_trimmed = pd.concat(chunks, ignore_index=True)\n",
    "    df_trimmed.to_csv(output_path, index=False)\n",
    "    print(f\"Trimmed file saved as: {output_path}\")\n",
    "\n",
    "if __name__ == \"__main__\":\n",
    "    trim_nba_elo(\n",
    "        input_path=\"nba_elo.csv\",\n",
    "        output_path=\"nba_elo_trimmed.csv\",\n",
    "        season_min=1981,\n",
    "        season_max=2023\n",
    "    )\n"
   ]
  }
 ],
 "metadata": {
  "kernelspec": {
   "display_name": "NBAStats",
   "language": "python",
   "name": "python3"
  },
  "language_info": {
   "codemirror_mode": {
    "name": "ipython",
    "version": 3
   },
   "file_extension": ".py",
   "mimetype": "text/x-python",
   "name": "python",
   "nbconvert_exporter": "python",
   "pygments_lexer": "ipython3",
   "version": "3.12.11"
  }
 },
 "nbformat": 4,
 "nbformat_minor": 5
}
